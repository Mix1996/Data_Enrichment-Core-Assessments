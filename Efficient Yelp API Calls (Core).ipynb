{
 "cells": [
  {
   "cell_type": "code",
   "execution_count": 8,
   "id": "ddf34d3c",
   "metadata": {},
   "outputs": [],
   "source": [
    "import json\n",
    "from yelpapi import YelpAPI\n",
    "import pandas as pd"
   ]
  },
  {
   "cell_type": "code",
   "execution_count": 2,
   "id": "f8903f5e",
   "metadata": {},
   "outputs": [
    {
     "name": "stdout",
     "output_type": "stream",
     "text": [
      "Requirement already satisfied: yelpapi in c:\\users\\mipillay1\\appdata\\local\\anaconda3\\lib\\site-packages (2.5.1)\n",
      "Requirement already satisfied: requests in c:\\users\\mipillay1\\appdata\\local\\anaconda3\\lib\\site-packages (from yelpapi) (2.31.0)\n",
      "Requirement already satisfied: charset-normalizer<4,>=2 in c:\\users\\mipillay1\\appdata\\local\\anaconda3\\lib\\site-packages (from requests->yelpapi) (2.0.4)\n",
      "Requirement already satisfied: idna<4,>=2.5 in c:\\users\\mipillay1\\appdata\\local\\anaconda3\\lib\\site-packages (from requests->yelpapi) (3.4)\n",
      "Requirement already satisfied: urllib3<3,>=1.21.1 in c:\\users\\mipillay1\\appdata\\local\\anaconda3\\lib\\site-packages (from requests->yelpapi) (1.26.16)\n",
      "Requirement already satisfied: certifi>=2017.4.17 in c:\\users\\mipillay1\\appdata\\local\\anaconda3\\lib\\site-packages (from requests->yelpapi) (2023.7.22)\n",
      "Requirement already satisfied: tqdm in c:\\users\\mipillay1\\appdata\\local\\anaconda3\\lib\\site-packages (4.65.0)\n",
      "Requirement already satisfied: colorama in c:\\users\\mipillay1\\appdata\\local\\anaconda3\\lib\\site-packages (from tqdm) (0.4.6)\n"
     ]
    }
   ],
   "source": [
    "!pip install yelpapi\n",
    "!pip install tqdm"
   ]
  },
  {
   "cell_type": "code",
   "execution_count": 2,
   "id": "a2475ca1",
   "metadata": {},
   "outputs": [],
   "source": [
    "# Load API Credentials\n",
    "with open('/Users/MiPillay1/OneDrive - MMI HOLDINGS LTD/Documents/GitHub/Data_Enrichment-Core-Assessments/Data/.secret/yelp_api.json', 'r') as f:\n",
    "    login = json.load(f)"
   ]
  },
  {
   "cell_type": "code",
   "execution_count": 3,
   "id": "d69694c2",
   "metadata": {},
   "outputs": [
    {
     "data": {
      "text/plain": [
       "dict_keys(['client-id', 'api-key'])"
      ]
     },
     "execution_count": 3,
     "metadata": {},
     "output_type": "execute_result"
    }
   ],
   "source": [
    "login.keys()"
   ]
  },
  {
   "cell_type": "code",
   "execution_count": 4,
   "id": "5ff87ef0",
   "metadata": {},
   "outputs": [
    {
     "data": {
      "text/plain": [
       "<yelpapi.yelpapi.YelpAPI at 0x1cc982fdd50>"
      ]
     },
     "execution_count": 4,
     "metadata": {},
     "output_type": "execute_result"
    }
   ],
   "source": [
    "from yelpapi import YelpAPI\n",
    "yelp_api = YelpAPI(login['api-key'], timeout_s=5.0)\n",
    "yelp_api"
   ]
  },
  {
   "cell_type": "code",
   "execution_count": 11,
   "id": "ddac1304",
   "metadata": {},
   "outputs": [],
   "source": [
    "# Define your search parameters\n",
    "city = 'New York'\n",
    "cuisine = 'Asian'"
   ]
  },
  {
   "cell_type": "code",
   "execution_count": 12,
   "id": "c5f7a171",
   "metadata": {},
   "outputs": [],
   "source": [
    "# Create an empty list to store results\n",
    "businesses_data = []\n",
    "\n",
    "# Define the API search parameters\n",
    "search_params = {\n",
    "    'term': cuisine,\n",
    "    'location': city,\n",
    "    'limit': 50,  # Aadjust the limit as needed\n",
    "}\n",
    "\n",
    "# Perform the Yelp API search\n",
    "response = yelp_api.search_query(**search_params)\n",
    "\n",
    "# Loop through each business and extract relevant data\n",
    "for business in response['businesses']:\n",
    "    business_data = {\n",
    "        'Name': business['name'],\n",
    "        'Rating': business['rating'],\n",
    "        'Price': business.get('price', ''),\n",
    "        'Address': ', '.join(business['location']['display_address']),\n",
    "        'Phone': business.get('phone', ''),\n",
    "    }\n",
    "    businesses_data.append(business_data)\n",
    "\n",
    "# Create a DataFrame from the list of businesses\n",
    "df = pd.DataFrame(businesses_data)\n"
   ]
  },
  {
   "cell_type": "code",
   "execution_count": 15,
   "id": "1d792301",
   "metadata": {},
   "outputs": [],
   "source": [
    "# Save the DataFrame to a CSV file\n",
    "df.to_csv('/Users/MiPillay1/OneDrive - MMI HOLDINGS LTD/Documents/GitHub/Data_Enrichment-Core-Assessments/Data/yelp_businesses.csv', index=False)\n"
   ]
  },
  {
   "cell_type": "code",
   "execution_count": null,
   "id": "9980bd4c",
   "metadata": {},
   "outputs": [],
   "source": []
  }
 ],
 "metadata": {
  "kernelspec": {
   "display_name": "Python (dojo-env)",
   "language": "python",
   "name": "dojo-env"
  },
  "language_info": {
   "codemirror_mode": {
    "name": "ipython",
    "version": 3
   },
   "file_extension": ".py",
   "mimetype": "text/x-python",
   "name": "python",
   "nbconvert_exporter": "python",
   "pygments_lexer": "ipython3",
   "version": "3.10.10"
  }
 },
 "nbformat": 4,
 "nbformat_minor": 5
}
